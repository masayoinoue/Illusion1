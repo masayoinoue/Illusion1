{
 "cells": [
  {
   "cell_type": "code",
   "execution_count": 1,
   "metadata": {},
   "outputs": [],
   "source": [
    "## download directory \"common\" from https://github.com/oreilly-japan/deep-learning-from-scratch\n",
    "## or\n",
    "## DIRECT ACCESS : download all files from https://github.com/oreilly-japan/deep-learning-from-scratch/tree/master/common and save them in a directory named \"common\".\n",
    "\n",
    "\n",
    "#import sys, os\n",
    "#sys.path.append(os.pardir)  \n",
    "import seaborn as sns \n",
    "import pandas as pd\n",
    "import numpy as np\n",
    "import cv2  \n",
    "import matplotlib as mpl\n",
    "import matplotlib.pyplot as plt\n",
    "%matplotlib inline\n",
    "from matplotlib.image import imread\n",
    "from common.util import im2col, col2im\n",
    "\n",
    "import func\n",
    "\n",
    "\n",
    "# ----- # ----- # ----- # ----- # ----- #\n",
    "# set_parameters\n",
    "inp_chan = 1    # number of channel of input data\n",
    "inp_wid = 224   # size of input data: input data dsize is (inp_wid, inp_wid, inp_chan)\n",
    "\n",
    "inp_stride = 2  # stride in convolution layer\n",
    "inp_pad = 0     # padding in convolution layer\n",
    "\n",
    "w_wid = 7       # filter size is (w_wid, w_wid) \n",
    "# change the indicated part in func.make_filter when with different filter size\n",
    "\n"
   ]
  },
  {
   "cell_type": "code",
   "execution_count": 2,
   "metadata": {},
   "outputs": [],
   "source": [
    "# ----- # ----- # ----- # ----- # ----- #\n",
    "# set input figure\n",
    "fig_file = 'sample1'  # inout_file_name\n",
    "\n",
    "# conversion to black and white figure\n",
    "im = cv2.imread(f'{fig_file}.png')\n",
    "im2 = cv2.resize(im, dsize=(inp_wid, inp_wid))\n",
    "im_gray = cv2.cvtColor(im2, cv2.COLOR_BGR2GRAY)\n",
    "im_gray = im_gray / 255.0\n",
    "img = im_gray.reshape(1, inp_chan, *im_gray.shape)\n",
    "\n",
    "\"\"\"\n",
    "# show input figure\n",
    "plt.imshow(im_gray, vmin = 0, vmax = 1, cmap = \"gray\")\n",
    "plt.colorbar()\n",
    "plt.show(); \n",
    "\"\"\"\n",
    "\n",
    "\n",
    "# ----- # ----- # ----- # ----- # ----- #\n",
    "# compute convolution layer and ReLU activation function\n",
    "w_vrt, w_hrz = func.make_filter(w_wid)\n",
    "out_Rall = np.concatenate([func.ReLU( func.convolution(img, w_vrt, w_wid, inp_stride, inp_pad) ), func.ReLU( func.convolution(img, w_hrz, w_wid, inp_stride, inp_pad) )], axis = 1)\n",
    "\n"
   ]
  },
  {
   "cell_type": "code",
   "execution_count": 3,
   "metadata": {},
   "outputs": [
    {
     "name": "stdout",
     "output_type": "stream",
     "text": [
      "stopped at 430 epoch\n"
     ]
    },
    {
     "data": {
      "image/png": "[encoded data removed]",
      "text/plain": [
       "<Figure size 432x288 with 2 Axes>"
      ]
     },
     "metadata": {
      "needs_background": "light"
     },
     "output_type": "display_data"
    }
   ],
   "source": [
    "# ----- # ----- # ----- # ----- # ----- #\n",
    "# set outout-target figure\n",
    "\n",
    "out_inp = out_Rall \n",
    "tmp = len(out_inp[0,0])\n",
    "# conversion to black and white figure\n",
    "imans = cv2.imread(f'{fig_file}.png')\n",
    "imans2 = cv2.resize(imans, dsize=(tmp, tmp))\n",
    "imans_gray = cv2.cvtColor(imans2, cv2.COLOR_BGR2GRAY)\n",
    "imans = imans_gray / 255.0\n",
    "\n",
    "\"\"\"\n",
    "# show target figure\n",
    "plt.imshow(imans, vmin = 0, vmax = 1, cmap = \"gray\")\n",
    "plt.colorbar()\n",
    "plt.show(); \n",
    "\"\"\"\n",
    "\n",
    "\n",
    "# ----- # ----- # ----- # ----- # ----- #\n",
    "# training process of weight parameters in fully connected layer\n",
    "\n",
    "# settings for with periodic stripe filters in Fig.1(1&2&3)\n",
    "w_cycle_index = [14,25,42,51,56,71,76,85,102,113]\n",
    "w_cycle = [0] * 2**7\n",
    "for i in w_cycle_index :\n",
    "    w_cycle[i] = 1\n",
    "\n",
    "\n",
    "# training process\n",
    "net = func.AffineNetwork(out_inp, imans)  #Neural Network initialization\n",
    "optimizer = func.myAdam()    # optimization algorithm initialization\n",
    "net.cyclic(w_cycle)     # set to periodic stripe filters\n",
    "\n",
    "func.Train(500, net, optimizer, flr=0.01) # training process: up to 500 epochs \n",
    "\n"
   ]
  },
  {
   "cell_type": "code",
   "execution_count": 4,
   "metadata": {},
   "outputs": [
    {
     "data": {
      "image/png": "[encoded data removed]",
      "text/plain": [
       "<Figure size 432x288 with 2 Axes>"
      ]
     },
     "metadata": {
      "needs_background": "light"
     },
     "output_type": "display_data"
    }
   ],
   "source": [
    "# ----- # ----- # ----- # ----- # ----- #\n",
    "# change input to sinusoid curved grid\n",
    "\n",
    "# set input figure and convert to black and white figure\n",
    "fig_nn = 'sample2' \n",
    "im = cv2.imread(f'{fig_nn}.png') \n",
    "imn = cv2.resize(im, dsize=(inp_wid, inp_wid))\n",
    "im_nn = cv2.cvtColor(imn, cv2.COLOR_BGR2GRAY)\n",
    "im_nn = im_nn / 255.0\n",
    "imgnn = im_nn.reshape(1, inp_chan, *im_nn.shape)\n",
    "\n",
    "\n",
    "# compute convolution layer and ReLU activation function\n",
    "outn_Rall = np.concatenate([func.ReLU( func.convolution(imgnn, w_vrt, w_wid, inp_stride, inp_pad) ), func.ReLU( func.convolution(imgnn, w_hrz, w_wid, inp_stride, inp_pad) )], axis = 1)\n",
    "\n",
    "\n",
    "# set weight parameters trained with straight grid\n",
    "w_fit = net.paramet()\n",
    "net = func.AffineNetwork(outn_Rall, imans)\n",
    "net.set_weight(w_fit)\n",
    "\n",
    "\n",
    "# show output image for sinusoid curved grid input\n",
    "plt.imshow(net.predict(), cmap = \"gray\", vmin = 0, vmax = 1)\n",
    "plt.colorbar()\n",
    "plt.show(); \n"
   ]
  }
 ],
 "metadata": {
  "kernelspec": {
   "display_name": "vsenv",
   "language": "python",
   "name": "python3"
  },
  "language_info": {
   "codemirror_mode": {
    "name": "ipython",
    "version": 3
   },
   "file_extension": ".py",
   "mimetype": "text/x-python",
   "name": "python",
   "nbconvert_exporter": "python",
   "pygments_lexer": "ipython3",
   "version": "3.9.19"
  },
  "orig_nbformat": 4
 },
 "nbformat": 4,
 "nbformat_minor": 2
}
